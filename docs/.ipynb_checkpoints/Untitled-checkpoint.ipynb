{
 "cells": [
  {
   "cell_type": "markdown",
   "metadata": {},
   "source": [
    "<table>\n",
    "    <tr>\n",
    "        <td clospan='4'>经营分析、性能分析、场景分析、成本分析、数据变现</td>\n",
    "        <td></td>\n",
    "        <td></td>\n",
    "        <td></td>\n",
    "        <td>应用层</td>\n",
    "    </tr>\n",
    "    <tr>\n",
    "        <td >系统运用管理</td>\n",
    "        <td>交互式分析平台</td>\n",
    "        <td>数据报表服务</td>\n",
    "        <td>线上报表展示</td>\n",
    "        <td>平台层</td>\n",
    "    </tr>\n",
    "    <tr>\n",
    "        <td>数据建模</td>\n",
    "        <td>数据挖掘</td>\n",
    "        <td>多语言</td>\n",
    "        <td>在线编辑</td>\n",
    "    </tr>\n",
    "</table>"
   ]
  },
  {
   "cell_type": "markdown",
   "metadata": {},
   "source": [
    "<table border=\"1\">\n",
    "  <tr>\n",
    "    <th>Month</th>\n",
    "    <th>Savings</th>\n",
    "  </tr>\n",
    "  <tr>\n",
    "    <td colspan=\"2\">January</td>\n",
    "  </tr>\n",
    "  <tr>\n",
    "    <td colspan=\"2\">February</td>\n",
    "  </tr>\n",
    "</table>"
   ]
  }
 ],
 "metadata": {
  "kernelspec": {
   "display_name": "Python 3",
   "language": "python",
   "name": "python3"
  },
  "language_info": {
   "codemirror_mode": {
    "name": "ipython",
    "version": 3
   },
   "file_extension": ".py",
   "mimetype": "text/x-python",
   "name": "python",
   "nbconvert_exporter": "python",
   "pygments_lexer": "ipython3",
   "version": "3.6.4"
  }
 },
 "nbformat": 4,
 "nbformat_minor": 2
}
